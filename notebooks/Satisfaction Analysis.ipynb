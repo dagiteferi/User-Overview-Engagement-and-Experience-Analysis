{
 "cells": [
  {
   "cell_type": "markdown",
   "metadata": {},
   "source": [
    "I am tasked with working for an investor who specializes in purchasing undervalued assets. The investor wants to perform detailed data analysis to identify opportunities for growth and profitability in a potential purchase—TellCo, a mobile service provider in the Republic of Pefkakia. my goal is to analyze customer data, provide insights, and make recommendations on whether TellCo is worth buying or selling. The analysis will be presented through a web-based dashboard and a written report.\n",
    "Task 2: User Engagement Analysis\n",
    "Objective: Assess user engagement using metrics such as session frequency, duration, and total traffic.\n",
    "\n",
    "Task 4: Satisfaction Analysis\n",
    "Objective: Analyze customer satisfaction based on engagement and experience.\n",
    "\n",
    "Assign engagement and experience scores to each user using Euclidean distance.\n",
    "\n",
    "Calculate satisfaction scores and report top satisfied customers.\n",
    "\n",
    "Build a regression model to predict satisfaction scores.\n",
    "\n",
    "Perform k-means clustering on engagement and experience scores.\n",
    "\n",
    "Aggregate and report satisfaction and experience scores per cluster.\n",
    "\n",
    "Export final user data with scores to a local MySQL database and report a screenshot of the query output"
   ]
  }
 ],
 "metadata": {
  "language_info": {
   "name": "python"
  }
 },
 "nbformat": 4,
 "nbformat_minor": 2
}
