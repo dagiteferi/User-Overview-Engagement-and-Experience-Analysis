{
 "cells": [
  {
   "cell_type": "markdown",
   "metadata": {},
   "source": [
    "I am tasked with working for an investor who specializes in purchasing undervalued assets. The investor wants to perform detailed data analysis to identify opportunities for growth and profitability in a potential purchase—TellCo, a mobile service provider in the Republic of Pefkakia. Your goal is to analyze customer data, provide insights, and make recommendations on whether TellCo is worth buying or selling. The analysis will be presented through a web-based dashboard and a written report.\n",
    "\n",
    "          Task 3: Experience Analytics\n",
    "Objective: Evaluate customer experience based on network parameters and device characteristics.\n",
    "\n",
    "Aggregate average TCP retransmission, RTT, handset type, and throughput per customer.\n",
    "\n",
    "List top, bottom, and most frequent TCP, RTT, and throughput values.\n",
    "\n",
    "Report distributions and averages of throughput and TCP retransmission per handset type.\n",
    "\n",
    "Perform k-means clustering to segment users into experience groups and describe each cluster.\n",
    "\n"
   ]
  },
  {
   "cell_type": "markdown",
   "metadata": {},
   "source": []
  }
 ],
 "metadata": {
  "language_info": {
   "name": "python"
  }
 },
 "nbformat": 4,
 "nbformat_minor": 2
}
